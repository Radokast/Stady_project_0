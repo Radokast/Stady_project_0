{
 "cells": [
  {
   "cell_type": "markdown",
   "metadata": {},
   "source": [
    "## Проект 0. Угадывание числа"
   ]
  },
  {
   "cell_type": "markdown",
   "metadata": {},
   "source": []
  },
  {
   "cell_type": "markdown",
   "metadata": {},
   "source": [
    "Функция задаёт случайное число и сама пытается угадать его, используя подсказки больше ли загаданное число или меньше"
   ]
  },
  {
   "cell_type": "code",
   "execution_count": null,
   "metadata": {},
   "outputs": [
    {
     "ename": "",
     "evalue": "",
     "output_type": "error",
     "traceback": [
      "\u001b[1;31mДля выполнения ячеек с \"Python 3.11.0 64-bit\" требуется пакет ipykernel.\n",
      "\u001b[1;31mВыполните следующую команду, чтобы установить \"ipykernel\" в среде Python. \n",
      "\u001b[1;31mКоманда: \"c:/Users/Lukyanenko/AppData/Local/Programs/Python/Python311/python.exe -m pip install ipykernel -U --user --force-reinstall\""
     ]
    }
   ],
   "source": [
    "from project_0 import random_predict "
   ]
  },
  {
   "cell_type": "markdown",
   "metadata": {},
   "source": [
    "В функции для нахождения искомого числа испольуется алгоритм поиска среднего от минимального и максимального значений, которые приобратают новый новый вид, исходя из подсказок."
   ]
  },
  {
   "cell_type": "code",
   "execution_count": null,
   "metadata": {},
   "outputs": [],
   "source": [
    "count = 0\n",
    "max_number = 101\n",
    "min_number = 1\n",
    "\n",
    "while count < 100:\n",
    "    count += 1\n",
    "    predict_number = round((min_number + max_number) / 2)\n",
    "    print(f'загадано новое число ({number}), попытка угадать {count}, предполагаемое число {predict_number}')\n",
    "        \n",
    "    if number == predict_number:\n",
    "        break  # выход из цикла при верном варианте\n",
    "            \n",
    "    elif number < predict_number:\n",
    "        max_number = predict_number\n",
    "            \n",
    "    else: \n",
    "        min_number = predict_number"
   ]
  },
  {
   "cell_type": "markdown",
   "metadata": {},
   "source": []
  },
  {
   "cell_type": "markdown",
   "metadata": {},
   "source": [
    "Для рассчета эффективности алгоритма используется функция прогона 1000 раз по сохранённому сиду."
   ]
  },
  {
   "cell_type": "code",
   "execution_count": null,
   "metadata": {},
   "outputs": [],
   "source": [
    "from project_0 import score_game"
   ]
  }
 ],
 "metadata": {
  "kernelspec": {
   "display_name": "Python 3.11.0 64-bit",
   "language": "python",
   "name": "python3"
  },
  "language_info": {
   "name": "python",
   "version": "3.11.0"
  },
  "orig_nbformat": 4,
  "vscode": {
   "interpreter": {
    "hash": "4a140e8c8aa4443980e255b10d719d9c07bb95e637cf147452517d4658ae676c"
   }
  }
 },
 "nbformat": 4,
 "nbformat_minor": 2
}
